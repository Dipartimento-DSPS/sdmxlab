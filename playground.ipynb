{
 "metadata": {
  "language_info": {
   "codemirror_mode": {
    "name": "ipython",
    "version": 3
   },
   "file_extension": ".py",
   "mimetype": "text/x-python",
   "name": "python",
   "nbconvert_exporter": "python",
   "pygments_lexer": "ipython3",
   "version": "3.8.5-final"
  },
  "orig_nbformat": 2,
  "kernelspec": {
   "name": "python3",
   "display_name": "Python 3.8.5 64-bit ('venv')",
   "metadata": {
    "interpreter": {
     "hash": "a6315fa78e86b87a288fca6bc02928819fe1a4058a108e0bf4b6eb72f89c3bef"
    }
   }
  }
 },
 "nbformat": 4,
 "nbformat_minor": 2,
 "cells": [
  {
   "cell_type": "code",
   "execution_count": 2,
   "metadata": {},
   "outputs": [],
   "source": [
    "import pandasdmx as sdmx\n",
    "import pandas as pd\n",
    "\n",
    "#https://github.com/sdmx-twg/sdmx-rest"
   ]
  },
  {
   "cell_type": "code",
   "execution_count": 3,
   "metadata": {},
   "outputs": [],
   "source": [
    "ecb = sdmx.Request('ECB')"
   ]
  },
  {
   "cell_type": "code",
   "execution_count": 4,
   "metadata": {},
   "outputs": [],
   "source": [
    "estat = sdmx.Request('ESTAT')"
   ]
  },
  {
   "cell_type": "code",
   "execution_count": 41,
   "metadata": {},
   "outputs": [],
   "source": [
    "#sempre aggiungere DSD per la struttura del dato\n",
    "metadata = estat.datastructure(\"DSD_aact_ali01\")"
   ]
  },
  {
   "cell_type": "code",
   "execution_count": 50,
   "metadata": {},
   "outputs": [
    {
     "output_type": "execute_result",
     "data": {
      "text/plain": [
       "DictLike([('CL_FREQ',\n",
       "           CL_FREQ\n",
       "           D          Daily\n",
       "           W         Weekly\n",
       "           Q      Quarterly\n",
       "           A         Annual\n",
       "           S    Semi-annual\n",
       "           M        Monthly\n",
       "           H      Half-year\n",
       "           Name: FREQ, dtype: object),\n",
       "          ('CL_GEO',\n",
       "           CL_GEO\n",
       "           EU27_2020           European Union - 27 countries (from 2020)\n",
       "           EU28                European Union - 28 countries (2013-2020)\n",
       "           EU27_2007           European Union - 27 countries (2007-2013)\n",
       "           EU25                European Union - 25 countries (2004-2006)\n",
       "           EU15                European Union - 15 countries (1995-2004)\n",
       "           EA19                    Euro area - 19 countries  (from 2015)\n",
       "           EA16                     Euro area - 16 countries (2009-2010)\n",
       "           EA12                     Euro area - 12 countries (2001-2006)\n",
       "           EA11                     Euro area - 11 countries (1999-2000)\n",
       "           BE                                                    Belgium\n",
       "           BG                                                   Bulgaria\n",
       "           CZ                                                    Czechia\n",
       "           DK                                                    Denmark\n",
       "           DE           Germany (until 1990 former territory of the FRG)\n",
       "           EE                                                    Estonia\n",
       "           IE                                                    Ireland\n",
       "           EL                                                     Greece\n",
       "           ES                                                      Spain\n",
       "           FR                                                     France\n",
       "           HR                                                    Croatia\n",
       "           IT                                                      Italy\n",
       "           CY                                                     Cyprus\n",
       "           LV                                                     Latvia\n",
       "           LT                                                  Lithuania\n",
       "           LU                                                 Luxembourg\n",
       "           HU                                                    Hungary\n",
       "           MT                                                      Malta\n",
       "           NL                                                Netherlands\n",
       "           AT                                                    Austria\n",
       "           PL                                                     Poland\n",
       "           PT                                                   Portugal\n",
       "           RO                                                    Romania\n",
       "           SI                                                   Slovenia\n",
       "           SK                                                   Slovakia\n",
       "           FI                                                    Finland\n",
       "           SE                                                     Sweden\n",
       "           UK                                             United Kingdom\n",
       "           IS                                                    Iceland\n",
       "           NO                                                     Norway\n",
       "           CH                                                Switzerland\n",
       "           Name: GEO, dtype: object),\n",
       "          ('CL_ITM_NEWA',\n",
       "           CL_ITM_NEWA\n",
       "           40000    Total labour force input\n",
       "           41000                Non-salaried\n",
       "           42000                    Salaried\n",
       "           Name: ITM_NEWA, dtype: object),\n",
       "          ('CL_OBS_FLAG',\n",
       "           CL_OBS_FLAG\n",
       "           f                            forecast\n",
       "           u                     low reliability\n",
       "           d    definition differs, see metadata\n",
       "           e                           estimated\n",
       "           s      Eurostat estimate (phased out)\n",
       "           b                break in time series\n",
       "           r                             revised\n",
       "           c                        confidential\n",
       "           p                         provisional\n",
       "           n                     not significant\n",
       "           z                      not applicable\n",
       "           i           see metadata (phased out)\n",
       "           Name: Observation flag., dtype: object),\n",
       "          ('CL_OBS_STATUS',\n",
       "           CL_OBS_STATUS\n",
       "           na                                     not available\n",
       "           -     not applicable or real zero or zero by default\n",
       "           0                    less than half of the unit used\n",
       "           Name: Observation status., dtype: object)])"
      ]
     },
     "metadata": {},
     "execution_count": 50
    }
   ],
   "source": [
    "metadata.to_pandas()[\"codelist\"]"
   ]
  },
  {
   "cell_type": "code",
   "execution_count": 42,
   "metadata": {},
   "outputs": [],
   "source": [
    "resp = estat.data(\"aact_ali01\")"
   ]
  },
  {
   "cell_type": "code",
   "execution_count": 49,
   "metadata": {},
   "outputs": [
    {
     "output_type": "execute_result",
     "data": {
      "text/plain": [
       "ITM_NEWA  GEO  FREQ  TIME_PERIOD\n",
       "40000     AT   A     1973              NaN\n",
       "                     1974              NaN\n",
       "                     1975              NaN\n",
       "                     1976              NaN\n",
       "                     1977              NaN\n",
       "                                     ...  \n",
       "42000     UK   A     2015           101.12\n",
       "                     2016            99.02\n",
       "                     2017           100.21\n",
       "                     2018           100.20\n",
       "                     2019            99.10\n",
       "Name: value, Length: 5640, dtype: float64"
      ]
     },
     "metadata": {},
     "execution_count": 49
    }
   ],
   "source": [
    "resp.to_pandas()"
   ]
  },
  {
   "cell_type": "code",
   "execution_count": 44,
   "metadata": {},
   "outputs": [
    {
     "output_type": "execute_result",
     "data": {
      "text/plain": [
       "['Config',\n",
       " '__abstractmethods__',\n",
       " '__annotations__',\n",
       " '__class__',\n",
       " '__config__',\n",
       " '__custom_root_type__',\n",
       " '__delattr__',\n",
       " '__dict__',\n",
       " '__dir__',\n",
       " '__doc__',\n",
       " '__eq__',\n",
       " '__fields__',\n",
       " '__fields_set__',\n",
       " '__format__',\n",
       " '__ge__',\n",
       " '__get_validators__',\n",
       " '__getattribute__',\n",
       " '__getstate__',\n",
       " '__gt__',\n",
       " '__hash__',\n",
       " '__init__',\n",
       " '__init_subclass__',\n",
       " '__iter__',\n",
       " '__json_encoder__',\n",
       " '__le__',\n",
       " '__lt__',\n",
       " '__module__',\n",
       " '__ne__',\n",
       " '__new__',\n",
       " '__post_root_validators__',\n",
       " '__pre_root_validators__',\n",
       " '__pretty__',\n",
       " '__private_attributes__',\n",
       " '__reduce__',\n",
       " '__reduce_ex__',\n",
       " '__repr__',\n",
       " '__repr_args__',\n",
       " '__repr_name__',\n",
       " '__repr_str__',\n",
       " '__schema_cache__',\n",
       " '__setattr__',\n",
       " '__setstate__',\n",
       " '__signature__',\n",
       " '__sizeof__',\n",
       " '__slots__',\n",
       " '__str__',\n",
       " '__subclasshook__',\n",
       " '__validators__',\n",
       " '__values__',\n",
       " '_abc_impl',\n",
       " '_calculate_keys',\n",
       " '_decompose_class',\n",
       " '_get_value',\n",
       " '_init_private_attributes',\n",
       " '_iter',\n",
       " 'compare',\n",
       " 'construct',\n",
       " 'copy',\n",
       " 'data',\n",
       " 'dataflow',\n",
       " 'dict',\n",
       " 'fields',\n",
       " 'footer',\n",
       " 'from_orm',\n",
       " 'header',\n",
       " 'json',\n",
       " 'observation_dimension',\n",
       " 'parse_file',\n",
       " 'parse_obj',\n",
       " 'parse_raw',\n",
       " 'response',\n",
       " 'schema',\n",
       " 'schema_json',\n",
       " 'structure',\n",
       " 'to_pandas',\n",
       " 'to_string',\n",
       " 'update_forward_refs',\n",
       " 'validate',\n",
       " 'write']"
      ]
     },
     "metadata": {},
     "execution_count": 44
    }
   ],
   "source": [
    "dir(resp)"
   ]
  },
  {
   "cell_type": "code",
   "execution_count": 25,
   "metadata": {},
   "outputs": [
    {
     "output_type": "execute_result",
     "data": {
      "text/plain": []
     },
     "metadata": {},
     "execution_count": 25
    }
   ],
   "source": [
    "metadata.codelist['CL_ITM_NEWA'].description\n",
    "    "
   ]
  },
  {
   "cell_type": "code",
   "execution_count": 20,
   "metadata": {},
   "outputs": [
    {
     "output_type": "execute_result",
     "data": {
      "text/plain": [
       "<ConceptScheme ESTAT:CS_DSD_sdg_08_30(1.0) (11 items): Concept Scheme for DSD_sdg_08_30>"
      ]
     },
     "metadata": {},
     "execution_count": 20
    }
   ],
   "source": [
    "metadata.concept_scheme['CS_DSD_sdg_08_30']\n"
   ]
  },
  {
   "cell_type": "code",
   "execution_count": 40,
   "metadata": {},
   "outputs": [
    {
     "output_type": "error",
     "ename": "AttributeError",
     "evalue": "'StructureMessage' object has no attribute 'dimensions'",
     "traceback": [
      "\u001b[0;31m---------------------------------------------------------------------------\u001b[0m",
      "\u001b[0;31mAttributeError\u001b[0m                            Traceback (most recent call last)",
      "\u001b[0;32m<ipython-input-40-9ea309bf783c>\u001b[0m in \u001b[0;36m<module>\u001b[0;34m\u001b[0m\n\u001b[0;32m----> 1\u001b[0;31m \u001b[0mmetadata\u001b[0m\u001b[0;34m.\u001b[0m\u001b[0mdimensions\u001b[0m\u001b[0;34m\u001b[0m\u001b[0;34m\u001b[0m\u001b[0m\n\u001b[0m",
      "\u001b[0;31mAttributeError\u001b[0m: 'StructureMessage' object has no attribute 'dimensions'"
     ]
    }
   ],
   "source": [
    "metadata.dimensions"
   ]
  },
  {
   "cell_type": "code",
   "execution_count": 39,
   "metadata": {},
   "outputs": [
    {
     "output_type": "stream",
     "name": "stdout",
     "text": [
      "\n\n\n"
     ]
    }
   ],
   "source": [
    "# queste sono le dimensioni \n",
    "for item in metadata.codelist['CL_ITM_NEWA']:\n",
    "    print(item.description)\n"
   ]
  },
  {
   "cell_type": "code",
   "execution_count": 13,
   "metadata": {},
   "outputs": [],
   "source": [
    "import time"
   ]
  },
  {
   "cell_type": "code",
   "execution_count": 14,
   "metadata": {},
   "outputs": [
    {
     "output_type": "execute_result",
     "data": {
      "text/plain": [
       "CL_INDIC_IS\n",
       "I_IU3              Last internet use: in last 3 months\n",
       "I_ILT12       Last internet use: in the last 12 months\n",
       "I_IUEVR    Individuals who have ever used the internet\n",
       "I_IUX                              Internet use: never\n",
       "Name: INDIC_IS, dtype: object"
      ]
     },
     "metadata": {},
     "execution_count": 14
    }
   ],
   "source": [
    "metadata.to_pandas()[\"codelist\"]['CL_INDIC_IS']"
   ]
  },
  {
   "cell_type": "code",
   "execution_count": 15,
   "metadata": {},
   "outputs": [
    {
     "output_type": "stream",
     "name": "stdout",
     "text": [
      "Help on StructureMessage in module pandasdmx.message object:\n\nclass StructureMessage(Message)\n |  StructureMessage(*, header: pandasdmx.message.Header = <Header>\n |    source: \n |    test: False, footer: pandasdmx.message.Footer = None, response: requests.models.Response = None, categorisation: pandasdmx.util.DictLike[str, pandasdmx.model.Categorisation] = DictLike(), category_scheme: pandasdmx.util.DictLike[str, pandasdmx.model.CategoryScheme] = DictLike(), codelist: pandasdmx.util.DictLike[str, pandasdmx.model.Codelist] = DictLike(), concept_scheme: pandasdmx.util.DictLike[str, pandasdmx.model.ConceptScheme] = DictLike(), constraint: pandasdmx.util.DictLike[str, pandasdmx.model.ContentConstraint] = DictLike(), dataflow: pandasdmx.util.DictLike[str, pandasdmx.model.DataflowDefinition] = DictLike(), structure: pandasdmx.util.DictLike[str, pandasdmx.model.DataStructureDefinition] = DictLike(), organisation_scheme: pandasdmx.util.DictLike[str, pandasdmx.model.AgencyScheme] = DictLike(), provisionagreement: pandasdmx.util.DictLike[str, pandasdmx.model.ProvisionAgreement] = DictLike()) -> None\n |  \n |  Shim for pydantic.BaseModel.\n |  \n |  This class changes two behaviours in pydantic. The methods are direct\n |  copies from pydantic's code, with marked changes.\n |  \n |  1. https://github.com/samuelcolvin/pydantic/issues/524\n |  \n |     - \"Multiple RecursionErrors with self-referencing models\"\n |     - In e.g. :class:`.Item`, having both .parent and .child references\n |       leads to infinite recursion during validation.\n |     - Fix: override BaseModel.__setattr__.\n |     - New value 'limited' for Config.validate_assignment: no sibling\n |       field values are passed to Field.validate().\n |     - New key Config.validate_assignment_exclude: list of field names that\n |       are not validated per se *and* not passed to Field.validate() when\n |       validating a sibling field.\n |  2. https://github.com/samuelcolvin/pydantic/issues/521\n |  \n |     - \"Assignment to attribute changes id() but not referenced object,\"\n |       marked as wontfix by pydantic maintainer.\n |     - When cls.attr is typed as BaseModel (or a subclass), then\n |       a.attr is b.attr is always False, even when set to the same reference.\n |     - Fix: override BaseModel.validate() without copy().\n |  \n |  Method resolution order:\n |      StructureMessage\n |      Message\n |      pandasdmx.util.BaseModel\n |      pydantic.main.BaseModel\n |      pydantic.utils.Representation\n |      builtins.object\n |  \n |  Methods defined here:\n |  \n |  __repr__(self)\n |      String representation.\n |  \n |  compare(self, other, strict=True)\n |      Return :obj:`True` if `self` is the same as `other`.\n |      \n |      Two StructureMessages compare equal if :meth:`.DictLike.compare` is :obj:`True`\n |      for each of the object collection attributes.\n |      \n |      Parameters\n |      ----------\n |      strict : bool, optional\n |          Passed to :meth:`.DictLike.compare`.\n |  \n |  ----------------------------------------------------------------------\n |  Static methods defined here:\n |  \n |  __json_encoder__ = pydantic_encoder(obj: Any) -> Any\n |  \n |  ----------------------------------------------------------------------\n |  Data and other attributes defined here:\n |  \n |  __abstractmethods__ = frozenset()\n |  \n |  __annotations__ = {'categorisation': pandasdmx.util.DictLike[str, pand...\n |  \n |  __config__ = <class 'pandasdmx.message.Config'>\n |  \n |  \n |  __custom_root_type__ = False\n |  \n |  __fields__ = {'categorisation': ModelField(name='categorisation', type...\n |  \n |  __post_root_validators__ = []\n |  \n |  __pre_root_validators__ = []\n |  \n |  __private_attributes__ = {}\n |  \n |  __schema_cache__ = {}\n |  \n |  __signature__ = <Signature (*, header: pandasdmx.message.Header ....mo...\n |  \n |  __validators__ = {}\n |  \n |  ----------------------------------------------------------------------\n |  Methods inherited from Message:\n |  \n |  __str__(self)\n |      Return str(self).\n |  \n |  to_pandas(self, *args, **kwargs)\n |      Convert a Message instance to :mod:`pandas` object(s).\n |      \n |      :func:`pandasdmx.writer.write` is called and passed\n |      the `Message` instance  as first argument, followed  by any `args` and `kwargs`.\n |      \n |      .. seealso:: :meth:`write`\n |  \n |  write(self, *args, **kwargs)\n |      Alias for `to_pandas` improving backwards compatibility.\n |      \n |      .. deprecated:: 1.0\n |          Use :meth:`to_pandas` instead.\n |  \n |  ----------------------------------------------------------------------\n |  Data and other attributes inherited from Message:\n |  \n |  Config = <class 'pandasdmx.message.Message.Config'>\n |  \n |  \n |  ----------------------------------------------------------------------\n |  Methods inherited from pandasdmx.util.BaseModel:\n |  \n |  __setattr__(self, name, value)\n |      Implement setattr(self, name, value).\n |  \n |  ----------------------------------------------------------------------\n |  Class methods inherited from pandasdmx.util.BaseModel:\n |  \n |  validate(value: Any) -> 'Model' from pydantic.main.ModelMetaclass\n |      # Workaround for https://github.com/samuelcolvin/pydantic/issues/521\n |  \n |  ----------------------------------------------------------------------\n |  Methods inherited from pydantic.main.BaseModel:\n |  \n |  __eq__(self, other: Any) -> bool\n |  \n |  __getstate__(self) -> 'DictAny'\n |  \n |  __init__(__pydantic_self__, **data: Any) -> None\n |      Create a new model by parsing and validating input data from keyword arguments.\n |      \n |      Raises ValidationError if the input data cannot be parsed to form a valid model.\n |  \n |  __iter__(self) -> 'TupleGenerator'\n |      so `dict(model)` works\n |  \n |  __repr_args__(self) -> 'ReprArgs'\n |  \n |  __setstate__(self, state: 'DictAny') -> None\n |  \n |  copy(self: 'Model', *, include: Union[ForwardRef('AbstractSetIntStr'), ForwardRef('MappingIntStrAny')] = None, exclude: Union[ForwardRef('AbstractSetIntStr'), ForwardRef('MappingIntStrAny')] = None, update: 'DictStrAny' = None, deep: bool = False) -> 'Model'\n |      Duplicate a model, optionally choose which fields to include, exclude and change.\n |      \n |      :param include: fields to include in new model\n |      :param exclude: fields to exclude from new model, as with values this takes precedence over include\n |      :param update: values to change/add in the new model. Note: the data is not validated before creating\n |          the new model: you should trust this data\n |      :param deep: set to `True` to make a deep copy of the model\n |      :return: new model instance\n |  \n |  dict(self, *, include: Union[ForwardRef('AbstractSetIntStr'), ForwardRef('MappingIntStrAny')] = None, exclude: Union[ForwardRef('AbstractSetIntStr'), ForwardRef('MappingIntStrAny')] = None, by_alias: bool = False, skip_defaults: bool = None, exclude_unset: bool = False, exclude_defaults: bool = False, exclude_none: bool = False) -> 'DictStrAny'\n |      Generate a dictionary representation of the model, optionally specifying which fields to include or exclude.\n |  \n |  json(self, *, include: Union[ForwardRef('AbstractSetIntStr'), ForwardRef('MappingIntStrAny')] = None, exclude: Union[ForwardRef('AbstractSetIntStr'), ForwardRef('MappingIntStrAny')] = None, by_alias: bool = False, skip_defaults: bool = None, exclude_unset: bool = False, exclude_defaults: bool = False, exclude_none: bool = False, encoder: Union[Callable[[Any], Any], NoneType] = None, **dumps_kwargs: Any) -> 'unicode'\n |      Generate a JSON representation of the model, `include` and `exclude` arguments as per `dict()`.\n |      \n |      `encoder` is an optional function to supply as `default` to json.dumps(), other arguments as per `json.dumps()`.\n |  \n |  to_string(self, pretty: bool = False) -> 'unicode'\n |  \n |  ----------------------------------------------------------------------\n |  Class methods inherited from pydantic.main.BaseModel:\n |  \n |  __get_validators__() -> 'CallableGenerator' from pydantic.main.ModelMetaclass\n |  \n |  construct(_fields_set: Union[ForwardRef('SetStr'), NoneType] = None, **values: Any) -> 'Model' from pydantic.main.ModelMetaclass\n |      Creates a new model setting __dict__ and __fields_set__ from trusted or pre-validated data.\n |      Default values are respected, but no other validation is performed.\n |  \n |  from_orm(obj: Any) -> 'Model' from pydantic.main.ModelMetaclass\n |  \n |  parse_file(path: Union[str, pathlib.Path], *, content_type: 'unicode' = None, encoding: 'unicode' = 'utf8', proto: pydantic.parse.Protocol = None, allow_pickle: bool = False) -> 'Model' from pydantic.main.ModelMetaclass\n |  \n |  parse_obj(obj: Any) -> 'Model' from pydantic.main.ModelMetaclass\n |  \n |  parse_raw(b: Union[str, bytes], *, content_type: 'unicode' = None, encoding: 'unicode' = 'utf8', proto: pydantic.parse.Protocol = None, allow_pickle: bool = False) -> 'Model' from pydantic.main.ModelMetaclass\n |  \n |  schema(by_alias: bool = True, ref_template: 'unicode' = '#/definitions/{model}') -> 'DictStrAny' from pydantic.main.ModelMetaclass\n |  \n |  schema_json(*, by_alias: bool = True, ref_template: 'unicode' = '#/definitions/{model}', **dumps_kwargs: Any) -> 'unicode' from pydantic.main.ModelMetaclass\n |  \n |  update_forward_refs(**localns: Any) -> None from pydantic.main.ModelMetaclass\n |      Try to update ForwardRefs on fields based on this Model, globalns and localns.\n |  \n |  ----------------------------------------------------------------------\n |  Readonly properties inherited from pydantic.main.BaseModel:\n |  \n |  __values__\n |  \n |  fields\n |  \n |  ----------------------------------------------------------------------\n |  Data descriptors inherited from pydantic.main.BaseModel:\n |  \n |  __dict__\n |      dictionary for instance variables (if defined)\n |  \n |  __fields_set__\n |  \n |  ----------------------------------------------------------------------\n |  Data and other attributes inherited from pydantic.main.BaseModel:\n |  \n |  __hash__ = None\n |  \n |  ----------------------------------------------------------------------\n |  Methods inherited from pydantic.utils.Representation:\n |  \n |  __pretty__(self, fmt: Callable[[Any], Any], **kwargs: Any) -> Generator[Any, NoneType, NoneType]\n |      Used by devtools (https://python-devtools.helpmanual.io/) to provide a human readable representations of objects\n |  \n |  __repr_name__(self) -> 'unicode'\n |      Name of the instance's class, used in __repr__.\n |  \n |  __repr_str__(self, join_str: 'unicode') -> 'unicode'\n\n"
     ]
    }
   ],
   "source": [
    "help(metadata)"
   ]
  },
  {
   "cell_type": "code",
   "execution_count": 21,
   "metadata": {},
   "outputs": [
    {
     "output_type": "stream",
     "name": "stdout",
     "text": [
      "0.7127981185913086\n"
     ]
    }
   ],
   "source": [
    "s = time.time()\n",
    "resp = estat.data(\n",
    " 'sdg_08_30',key={'GEO': ['EL', 'IT'], \"SEX\": \"M\"}, params = {'startPeriod': '2016', \"endPeriod\": \"2016\"})\n",
    "l = time.time()\n",
    "print(l-s)"
   ]
  },
  {
   "cell_type": "code",
   "execution_count": 139,
   "metadata": {},
   "outputs": [
    {
     "output_type": "stream",
     "name": "stdout",
     "text": [
      "2.426995038986206\n"
     ]
    }
   ],
   "source": [
    "s = time.time()\n",
    "resp = estat.data(\n",
    " 'tin00028',key={}, params = {'startPeriod': '2016', \"endPeriod\": \"2020\"})\n",
    "l = time.time()\n",
    "print(l-s)"
   ]
  },
  {
   "cell_type": "code",
   "execution_count": 22,
   "metadata": {},
   "outputs": [
    {
     "output_type": "execute_result",
     "data": {
      "text/plain": [
       "TIME_PERIOD                          2016\n",
       "FREQ AGE    UNIT   SEX INDIC_EM GEO      \n",
       "A    Y20-64 PC_POP M   EMP_LFS  EL   65.8\n",
       "                                IT   71.7"
      ],
      "text/html": "<div>\n<style scoped>\n    .dataframe tbody tr th:only-of-type {\n        vertical-align: middle;\n    }\n\n    .dataframe tbody tr th {\n        vertical-align: top;\n    }\n\n    .dataframe thead th {\n        text-align: right;\n    }\n</style>\n<table border=\"1\" class=\"dataframe\">\n  <thead>\n    <tr style=\"text-align: right;\">\n      <th></th>\n      <th></th>\n      <th></th>\n      <th></th>\n      <th></th>\n      <th>TIME_PERIOD</th>\n      <th>2016</th>\n    </tr>\n    <tr>\n      <th>FREQ</th>\n      <th>AGE</th>\n      <th>UNIT</th>\n      <th>SEX</th>\n      <th>INDIC_EM</th>\n      <th>GEO</th>\n      <th></th>\n    </tr>\n  </thead>\n  <tbody>\n    <tr>\n      <th rowspan=\"2\" valign=\"top\">A</th>\n      <th rowspan=\"2\" valign=\"top\">Y20-64</th>\n      <th rowspan=\"2\" valign=\"top\">PC_POP</th>\n      <th rowspan=\"2\" valign=\"top\">M</th>\n      <th rowspan=\"2\" valign=\"top\">EMP_LFS</th>\n      <th>EL</th>\n      <td>65.8</td>\n    </tr>\n    <tr>\n      <th>IT</th>\n      <td>71.7</td>\n    </tr>\n  </tbody>\n</table>\n</div>"
     },
     "metadata": {},
     "execution_count": 22
    }
   ],
   "source": [
    "resp.to_pandas().unstack(\"TIME_PERIOD\")"
   ]
  },
  {
   "cell_type": "code",
   "execution_count": 35,
   "metadata": {},
   "outputs": [
    {
     "output_type": "error",
     "ename": "NotImplementedError",
     "evalue": "<Resource.codelist: 'codelist'> endpoint at http://ec.europa.eu/eurostat/SDMX/diss-web/rest/codelist/ESTAT/latest",
     "traceback": [
      "\u001b[0;31m---------------------------------------------------------------------------\u001b[0m",
      "\u001b[0;31mHTTPError\u001b[0m                                 Traceback (most recent call last)",
      "\u001b[0;32m~/pandasSDMX_exp/venv/lib/python3.8/site-packages/pandasdmx/api.py\u001b[0m in \u001b[0;36mget\u001b[0;34m(self, resource_type, resource_id, tofile, use_cache, dry_run, **kwargs)\u001b[0m\n\u001b[1;32m    419\u001b[0m             \u001b[0mresponse\u001b[0m \u001b[0;34m=\u001b[0m \u001b[0mself\u001b[0m\u001b[0;34m.\u001b[0m\u001b[0msession\u001b[0m\u001b[0;34m.\u001b[0m\u001b[0msend\u001b[0m\u001b[0;34m(\u001b[0m\u001b[0mreq\u001b[0m\u001b[0;34m)\u001b[0m\u001b[0;34m\u001b[0m\u001b[0;34m\u001b[0m\u001b[0m\n\u001b[0;32m--> 420\u001b[0;31m             \u001b[0mresponse\u001b[0m\u001b[0;34m.\u001b[0m\u001b[0mraise_for_status\u001b[0m\u001b[0;34m(\u001b[0m\u001b[0;34m)\u001b[0m\u001b[0;34m\u001b[0m\u001b[0;34m\u001b[0m\u001b[0m\n\u001b[0m\u001b[1;32m    421\u001b[0m         \u001b[0;32mexcept\u001b[0m \u001b[0mrequests\u001b[0m\u001b[0;34m.\u001b[0m\u001b[0mexceptions\u001b[0m\u001b[0;34m.\u001b[0m\u001b[0mConnectionError\u001b[0m \u001b[0;32mas\u001b[0m \u001b[0me\u001b[0m\u001b[0;34m:\u001b[0m\u001b[0;34m\u001b[0m\u001b[0;34m\u001b[0m\u001b[0m\n",
      "\u001b[0;32m~/pandasSDMX_exp/venv/lib/python3.8/site-packages/requests/models.py\u001b[0m in \u001b[0;36mraise_for_status\u001b[0;34m(self)\u001b[0m\n\u001b[1;32m    942\u001b[0m         \u001b[0;32mif\u001b[0m \u001b[0mhttp_error_msg\u001b[0m\u001b[0;34m:\u001b[0m\u001b[0;34m\u001b[0m\u001b[0;34m\u001b[0m\u001b[0m\n\u001b[0;32m--> 943\u001b[0;31m             \u001b[0;32mraise\u001b[0m \u001b[0mHTTPError\u001b[0m\u001b[0;34m(\u001b[0m\u001b[0mhttp_error_msg\u001b[0m\u001b[0;34m,\u001b[0m \u001b[0mresponse\u001b[0m\u001b[0;34m=\u001b[0m\u001b[0mself\u001b[0m\u001b[0;34m)\u001b[0m\u001b[0;34m\u001b[0m\u001b[0;34m\u001b[0m\u001b[0m\n\u001b[0m\u001b[1;32m    944\u001b[0m \u001b[0;34m\u001b[0m\u001b[0m\n",
      "\u001b[0;31mHTTPError\u001b[0m: 501 Server Error: Not Implemented for url: http://ec.europa.eu/eurostat/SDMX/diss-web/rest/codelist/ESTAT/latest",
      "\nDuring handling of the above exception, another exception occurred:\n",
      "\u001b[0;31mNotImplementedError\u001b[0m                       Traceback (most recent call last)",
      "\u001b[0;32m<ipython-input-35-76b6a4c77193>\u001b[0m in \u001b[0;36m<module>\u001b[0;34m\u001b[0m\n\u001b[0;32m----> 1\u001b[0;31m \u001b[0mestat\u001b[0m\u001b[0;34m.\u001b[0m\u001b[0mcodelist\u001b[0m\u001b[0;34m(\u001b[0m\u001b[0mforce\u001b[0m\u001b[0;34m=\u001b[0m\u001b[0;32mTrue\u001b[0m\u001b[0;34m)\u001b[0m\u001b[0;34m\u001b[0m\u001b[0;34m\u001b[0m\u001b[0m\n\u001b[0m",
      "\u001b[0;32m~/pandasSDMX_exp/venv/lib/python3.8/site-packages/pandasdmx/api.py\u001b[0m in \u001b[0;36mget\u001b[0;34m(self, resource_type, resource_id, tofile, use_cache, dry_run, **kwargs)\u001b[0m\n\u001b[1;32m    424\u001b[0m             \u001b[0;31m# Convert a 501 response to a Python NotImplementedError\u001b[0m\u001b[0;34m\u001b[0m\u001b[0;34m\u001b[0m\u001b[0;34m\u001b[0m\u001b[0m\n\u001b[1;32m    425\u001b[0m             \u001b[0;32mif\u001b[0m \u001b[0me\u001b[0m\u001b[0;34m.\u001b[0m\u001b[0mresponse\u001b[0m\u001b[0;34m.\u001b[0m\u001b[0mstatus_code\u001b[0m \u001b[0;34m==\u001b[0m \u001b[0;36m501\u001b[0m\u001b[0;34m:\u001b[0m\u001b[0;34m\u001b[0m\u001b[0;34m\u001b[0m\u001b[0m\n\u001b[0;32m--> 426\u001b[0;31m                 raise NotImplementedError(\n\u001b[0m\u001b[1;32m    427\u001b[0m                     \u001b[0;34m\"{!r} endpoint at {}\"\u001b[0m\u001b[0;34m.\u001b[0m\u001b[0mformat\u001b[0m\u001b[0;34m(\u001b[0m\u001b[0mresource_type\u001b[0m\u001b[0;34m,\u001b[0m \u001b[0me\u001b[0m\u001b[0;34m.\u001b[0m\u001b[0mrequest\u001b[0m\u001b[0;34m.\u001b[0m\u001b[0murl\u001b[0m\u001b[0;34m)\u001b[0m\u001b[0;34m\u001b[0m\u001b[0;34m\u001b[0m\u001b[0m\n\u001b[1;32m    428\u001b[0m                 )\n",
      "\u001b[0;31mNotImplementedError\u001b[0m: <Resource.codelist: 'codelist'> endpoint at http://ec.europa.eu/eurostat/SDMX/diss-web/rest/codelist/ESTAT/latest"
     ]
    }
   ],
   "source": [
    "estat.codelist(force=True)"
   ]
  },
  {
   "cell_type": "code",
   "execution_count": 5,
   "metadata": {},
   "outputs": [],
   "source": [
    "list = ecb.codelist()"
   ]
  },
  {
   "cell_type": "code",
   "execution_count": 10,
   "metadata": {},
   "outputs": [
    {
     "output_type": "execute_result",
     "data": {
      "text/plain": [
       "['Config',\n",
       " '_Item',\n",
       " '__abstractmethods__',\n",
       " '__annotations__',\n",
       " '__class__',\n",
       " '__class_getitem__',\n",
       " '__config__',\n",
       " '__contains__',\n",
       " '__custom_root_type__',\n",
       " '__delattr__',\n",
       " '__dict__',\n",
       " '__dir__',\n",
       " '__doc__',\n",
       " '__eq__',\n",
       " '__fields__',\n",
       " '__fields_set__',\n",
       " '__format__',\n",
       " '__ge__',\n",
       " '__get_validators__',\n",
       " '__getattr__',\n",
       " '__getattribute__',\n",
       " '__getitem__',\n",
       " '__getstate__',\n",
       " '__gt__',\n",
       " '__hash__',\n",
       " '__init__',\n",
       " '__init_subclass__',\n",
       " '__iter__',\n",
       " '__json_encoder__',\n",
       " '__le__',\n",
       " '__len__',\n",
       " '__lt__',\n",
       " '__module__',\n",
       " '__ne__',\n",
       " '__new__',\n",
       " '__orig_bases__',\n",
       " '__parameters__',\n",
       " '__post_root_validators__',\n",
       " '__pre_root_validators__',\n",
       " '__pretty__',\n",
       " '__private_attributes__',\n",
       " '__reduce__',\n",
       " '__reduce_ex__',\n",
       " '__repr__',\n",
       " '__repr_args__',\n",
       " '__repr_name__',\n",
       " '__repr_str__',\n",
       " '__schema_cache__',\n",
       " '__setattr__',\n",
       " '__setstate__',\n",
       " '__signature__',\n",
       " '__sizeof__',\n",
       " '__slots__',\n",
       " '__str__',\n",
       " '__subclasshook__',\n",
       " '__validators__',\n",
       " '__values__',\n",
       " '_abc_impl',\n",
       " '_calculate_keys',\n",
       " '_decompose_class',\n",
       " '_get_value',\n",
       " '_init_private_attributes',\n",
       " '_is_protocol',\n",
       " '_iter',\n",
       " '_repr_kw',\n",
       " 'annotations',\n",
       " 'append',\n",
       " 'compare',\n",
       " 'construct',\n",
       " 'convert_to_dict',\n",
       " 'copy',\n",
       " 'description',\n",
       " 'dict',\n",
       " 'extend',\n",
       " 'fields',\n",
       " 'from_orm',\n",
       " 'get_hierarchical',\n",
       " 'id',\n",
       " 'is_external_reference',\n",
       " 'is_final',\n",
       " 'is_partial',\n",
       " 'items',\n",
       " 'json',\n",
       " 'maintainer',\n",
       " 'name',\n",
       " 'parse_file',\n",
       " 'parse_obj',\n",
       " 'parse_raw',\n",
       " 'schema',\n",
       " 'schema_json',\n",
       " 'service_url',\n",
       " 'setdefault',\n",
       " 'structure_url',\n",
       " 'to_string',\n",
       " 'update_forward_refs',\n",
       " 'uri',\n",
       " 'urn',\n",
       " 'urn_group',\n",
       " 'valid_from',\n",
       " 'valid_to',\n",
       " 'validate',\n",
       " 'version']"
      ]
     },
     "metadata": {},
     "execution_count": 10
    }
   ],
   "source": [
    "dir(list.codelist[0])"
   ]
  },
  {
   "cell_type": "code",
   "execution_count": 19,
   "metadata": {},
   "outputs": [],
   "source": [
    "item = list.codelist[0]\n"
   ]
  },
  {
   "cell_type": "code",
   "execution_count": 22,
   "metadata": {},
   "outputs": [
    {
     "output_type": "execute_result",
     "data": {
      "text/plain": [
       "['Config',\n",
       " '_Item',\n",
       " '__abstractmethods__',\n",
       " '__annotations__',\n",
       " '__class__',\n",
       " '__class_getitem__',\n",
       " '__config__',\n",
       " '__contains__',\n",
       " '__custom_root_type__',\n",
       " '__delattr__',\n",
       " '__dict__',\n",
       " '__dir__',\n",
       " '__doc__',\n",
       " '__eq__',\n",
       " '__fields__',\n",
       " '__fields_set__',\n",
       " '__format__',\n",
       " '__ge__',\n",
       " '__get_validators__',\n",
       " '__getattr__',\n",
       " '__getattribute__',\n",
       " '__getitem__',\n",
       " '__getstate__',\n",
       " '__gt__',\n",
       " '__hash__',\n",
       " '__init__',\n",
       " '__init_subclass__',\n",
       " '__iter__',\n",
       " '__json_encoder__',\n",
       " '__le__',\n",
       " '__len__',\n",
       " '__lt__',\n",
       " '__module__',\n",
       " '__ne__',\n",
       " '__new__',\n",
       " '__orig_bases__',\n",
       " '__parameters__',\n",
       " '__post_root_validators__',\n",
       " '__pre_root_validators__',\n",
       " '__pretty__',\n",
       " '__private_attributes__',\n",
       " '__reduce__',\n",
       " '__reduce_ex__',\n",
       " '__repr__',\n",
       " '__repr_args__',\n",
       " '__repr_name__',\n",
       " '__repr_str__',\n",
       " '__schema_cache__',\n",
       " '__setattr__',\n",
       " '__setstate__',\n",
       " '__signature__',\n",
       " '__sizeof__',\n",
       " '__slots__',\n",
       " '__str__',\n",
       " '__subclasshook__',\n",
       " '__validators__',\n",
       " '__values__',\n",
       " '_abc_impl',\n",
       " '_calculate_keys',\n",
       " '_decompose_class',\n",
       " '_get_value',\n",
       " '_init_private_attributes',\n",
       " '_is_protocol',\n",
       " '_iter',\n",
       " '_repr_kw',\n",
       " 'annotations',\n",
       " 'append',\n",
       " 'compare',\n",
       " 'construct',\n",
       " 'convert_to_dict',\n",
       " 'copy',\n",
       " 'description',\n",
       " 'dict',\n",
       " 'extend',\n",
       " 'fields',\n",
       " 'from_orm',\n",
       " 'get_hierarchical',\n",
       " 'id',\n",
       " 'is_external_reference',\n",
       " 'is_final',\n",
       " 'is_partial',\n",
       " 'items',\n",
       " 'json',\n",
       " 'maintainer',\n",
       " 'name',\n",
       " 'parse_file',\n",
       " 'parse_obj',\n",
       " 'parse_raw',\n",
       " 'schema',\n",
       " 'schema_json',\n",
       " 'service_url',\n",
       " 'setdefault',\n",
       " 'structure_url',\n",
       " 'to_string',\n",
       " 'update_forward_refs',\n",
       " 'uri',\n",
       " 'urn',\n",
       " 'urn_group',\n",
       " 'valid_from',\n",
       " 'valid_to',\n",
       " 'validate',\n",
       " 'version']"
      ]
     },
     "metadata": {},
     "execution_count": 22
    }
   ],
   "source": [
    "dir(item)"
   ]
  },
  {
   "cell_type": "code",
   "execution_count": 31,
   "metadata": {},
   "outputs": [
    {
     "output_type": "execute_result",
     "data": {
      "text/plain": [
       "{'annotations': ModelField(name='annotations', type=List[Annotation], required=False, default=[]),\n",
       " 'id': ModelField(name='id', type=str, required=False, default=''),\n",
       " 'uri': ModelField(name='uri', type=Optional[str], required=False, default=None),\n",
       " 'urn': ModelField(name='urn', type=Optional[str], required=False, default=None),\n",
       " 'urn_group': ModelField(name='urn_group', type=Mapping[Any, VT], required=False, default={}),\n",
       " 'name': ModelField(name='name', type=InternationalString, required=False, default=),\n",
       " 'description': ModelField(name='description', type=InternationalString, required=False, default=),\n",
       " 'version': ModelField(name='version', type=Optional[str], required=False, default=None),\n",
       " 'valid_from': ModelField(name='valid_from', type=Optional[str], required=False, default=None),\n",
       " 'valid_to': ModelField(name='valid_to', type=Optional[str], required=False, default=None),\n",
       " 'is_final': ModelField(name='is_final', type=Optional[bool], required=False, default=None),\n",
       " 'is_external_reference': ModelField(name='is_external_reference', type=Optional[bool], required=False, default=None),\n",
       " 'service_url': ModelField(name='service_url', type=Optional[str], required=False, default=None),\n",
       " 'structure_url': ModelField(name='structure_url', type=Optional[str], required=False, default=None),\n",
       " 'maintainer': ModelField(name='maintainer', type=Optional[Agency], required=False, default=None),\n",
       " 'is_partial': ModelField(name='is_partial', type=Optional[bool], required=False, default=None),\n",
       " 'items': ModelField(name='items', type=Mapping[str, IT], required=False, default={})}"
      ]
     },
     "metadata": {},
     "execution_count": 31
    }
   ],
   "source": [
    "item.fields"
   ]
  },
  {
   "cell_type": "code",
   "execution_count": null,
   "metadata": {},
   "outputs": [],
   "source": []
  }
 ]
}